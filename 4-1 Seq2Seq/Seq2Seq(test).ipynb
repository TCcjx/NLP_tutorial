{
 "cells": [
  {
   "cell_type": "code",
   "id": "initial_id",
   "metadata": {
    "collapsed": true,
    "ExecuteTime": {
     "end_time": "2025-03-25T08:28:56.426864Z",
     "start_time": "2025-03-25T08:28:54.192041Z"
    }
   },
   "source": [
    "import torch.nn as nn\n",
    "import torch\n",
    "import torch.nn.functional as F\n",
    "from mpmath.libmp.libelefun import atan_newton\n",
    "from torch.nn.functional import embedding"
   ],
   "outputs": [],
   "execution_count": 2
  },
  {
   "metadata": {
    "ExecuteTime": {
     "end_time": "2025-03-25T08:29:05.487401Z",
     "start_time": "2025-03-25T08:29:05.478393Z"
    }
   },
   "cell_type": "code",
   "source": [
    "MAX_LENGTH = 10\n",
    "\n",
    "PAD_token = 0\n",
    "SOS_token = 1\n",
    "EOS_token = 2"
   ],
   "id": "a41d89f018b88543",
   "outputs": [],
   "execution_count": 3
  },
  {
   "metadata": {
    "ExecuteTime": {
     "end_time": "2025-03-25T08:29:06.864411Z",
     "start_time": "2025-03-25T08:29:06.848597Z"
    }
   },
   "cell_type": "code",
   "source": [
    "# RNN编码器\n",
    "class EncoderRNN(nn.Module):\n",
    "    def __init__(self, input_size, hidden_size, dropout_p=0.1):\n",
    "        super().__init__()\n",
    "        self.hidden_size = hidden_size # 隐藏态维度大小\n",
    "        self.embedding = nn.Embedding(input_size, hidden_size) # 嵌入层\n",
    "        self.rnn = nn.RNN(hidden_size, hidden_size, batch_first=True) # RNN单元\n",
    "        self.dropout = nn.Dropout(dropout_p)\n",
    "\n",
    "    def forward(self, X):\n",
    "        X = self.embedding(X)\n",
    "        X = self.dropout(X)\n",
    "        output, hidden = self.rnn(X)\n",
    "        return output, hidden"
   ],
   "id": "59c0c6b61093a1bf",
   "outputs": [],
   "execution_count": 4
  },
  {
   "metadata": {
    "ExecuteTime": {
     "end_time": "2025-03-25T08:29:08.277908Z",
     "start_time": "2025-03-25T08:29:08.262166Z"
    }
   },
   "cell_type": "code",
   "source": [
    "encoder = EncoderRNN(input_size=10, hidden_size=5)\n",
    "input_vector = torch.arange(10).unsqueeze(0) # (1,10)\n",
    "output, hidden = encoder(input_vector) # output:(1,10,5) hidden(1,1,5)\n",
    "print('输入向量的维度：',input_vector.size())\n",
    "print('输出向量的维度：',output.size())\n",
    "print('最终隐藏态的维度：',hidden.size())"
   ],
   "id": "e5441f573f160acc",
   "outputs": [
    {
     "name": "stdout",
     "output_type": "stream",
     "text": [
      "输入向量的维度： torch.Size([1, 10])\n",
      "输出向量的维度： torch.Size([1, 10, 5])\n",
      "最终隐藏态的维度： torch.Size([1, 1, 5])\n"
     ]
    }
   ],
   "execution_count": 5
  },
  {
   "metadata": {
    "ExecuteTime": {
     "end_time": "2025-03-25T08:31:22.815526Z",
     "start_time": "2025-03-25T08:31:22.799713Z"
    }
   },
   "cell_type": "code",
   "source": [
    "class DecoderRNN(nn.Module):\n",
    "    def __init__(self, hidden_size, output_size):\n",
    "        super(DecoderRNN, self).__init__()\n",
    "        self.embedding = nn.Embedding(output_size, hidden_size)\n",
    "        self.rnn = nn.RNN(hidden_size, hidden_size, batch_first=True)\n",
    "        self.out = nn.Linear(hidden_size, output_size)\n",
    "\n",
    "    def forward(self, encoder_outputs, encoder_hidden, target_tensor=None):\n",
    "        batch_size = encoder_outputs.size(0)\n",
    "        decoder_input = torch.empty(batch_size, 1, dtype=torch.long).fill_(\n",
    "            SOS_token)  # Start of Sentence词元，用于表示开始生成一个句子\n",
    "        decoder_hidden = encoder_hidden # 编码器隐藏态 作为 解码器隐藏态 (1,10,5) ☆☆☆☆☆\n",
    "        decoder_outputs = []\n",
    "        for i in range(MAX_LENGTH):\n",
    "            decoder_output, decoder_hidden = self.forward_step(\n",
    "                decoder_input, decoder_hidden)\n",
    "            decoder_outputs.append(decoder_output) # 输出追加到 decoder_outputs\n",
    "            if target_tensor is not None:\n",
    "                decoder_input = target_tensor[:, i].unsqueeze(1)\n",
    "            else:\n",
    "                _, topi = decoder_output.topk(1) # 最高概率的索引值\n",
    "                decoder_input = topi.squeeze(-1).detach()\n",
    "\n",
    "\n",
    "        decoder_outputs = torch.cat(decoder_outputs, dim=1)\n",
    "        decoder_outputs = F.log_softmax(decoder_outputs, dim=-1)\n",
    "        return decoder_outputs, decoder_hidden, None # decoder_hidden 最后一个RNN单元输出的最后一个隐藏态\n",
    "\n",
    "    def forward_step(self, x, hidden):\n",
    "        x = self.embedding(x)\n",
    "        x = F.relu(x)\n",
    "        x, hidden = self.rnn(x, hidden) # x:(1,1,5) hidden(1,1,5)\n",
    "        output = self.out(x) # (1,1,10)\n",
    "        return output, hidden"
   ],
   "id": "93f5b7654d7bf083",
   "outputs": [],
   "execution_count": 8
  },
  {
   "metadata": {
    "ExecuteTime": {
     "end_time": "2025-03-25T08:31:24.158904Z",
     "start_time": "2025-03-25T08:31:24.142926Z"
    }
   },
   "cell_type": "code",
   "source": [
    "decoder = DecoderRNN(hidden_size=5, output_size=10)\n",
    "target_vector = torch.tensor([[0, 1, 2, 3, 4, 5, 6, 7, 8, 9]]) # (1,10) 模拟目标target\n",
    "encoder_outputs, encoder_hidden = encoder(input_vector)\n",
    "print('encoder_outputs shape:',encoder_outputs.shape)\n",
    "print('encoder_hidden shape:',encoder_hidden.shape)\n",
    "output, hidden, _ = decoder(encoder_outputs, encoder_hidden, target_vector)"
   ],
   "id": "b21583a0cf430b20",
   "outputs": [
    {
     "name": "stdout",
     "output_type": "stream",
     "text": [
      "encoder_outputs shape: torch.Size([1, 10, 5])\n",
      "encoder_hidden shape: torch.Size([1, 1, 5])\n"
     ]
    }
   ],
   "execution_count": 9
  },
  {
   "metadata": {
    "ExecuteTime": {
     "end_time": "2025-03-25T08:31:26.308395Z",
     "start_time": "2025-03-25T08:31:26.280138Z"
    }
   },
   "cell_type": "code",
   "source": [
    "'''\n",
    "前面部分代码实现了单独的Encoder2Decoder的Seq2Seq结构\n",
    "主要思想是：Encoder的输出隐藏态作为Decoder的初始隐藏态\n",
    "然后进行依次RNN单元的计算，每个RNNCell的输出就是该单元的预测\n",
    "如果是进行强制学习的话，就是将target输出作为下一时刻输入\n",
    "否则就是将当前时刻输出，作为下一时刻RNNCell的输入\n",
    "这样逐Cell进行计算，计算出最终的预测序列\n",
    "'''\n",
    "print(\"输出向量的维度:\", output.size())\n",
    "print(\"最终隐藏状态的维度:\", hidden.size())"
   ],
   "id": "b8cdc26d1f81cfd3",
   "outputs": [
    {
     "name": "stdout",
     "output_type": "stream",
     "text": [
      "输出向量的维度: torch.Size([1, 10, 10])\n",
      "最终隐藏状态的维度: torch.Size([1, 1, 5])\n"
     ]
    }
   ],
   "execution_count": 10
  },
  {
   "metadata": {
    "ExecuteTime": {
     "end_time": "2025-03-25T08:44:20.247889Z",
     "start_time": "2025-03-25T08:44:20.232123Z"
    }
   },
   "cell_type": "code",
   "source": [
    "# 注意力机制实现\n",
    "class Attention(nn.Module):\n",
    "    def __init__(self, hidden_size):\n",
    "        super(Attention, self).__init__()\n",
    "        self.Wa = nn.Linear(hidden_size, hidden_size)\n",
    "        self.Ua = nn.Linear(hidden_size, hidden_size)\n",
    "        self.Va = nn.Linear(hidden_size, 1)\n",
    "\n",
    "    def forward(self, query, keys):\n",
    "        scores = self.Va(torch.tanh(self.Wa(query) + self.Ua(keys)))\n",
    "        scores = scores.squeeze(2).unsqueeze(1)\n",
    "        weights = F.softmax(scores, dim=-1)\n",
    "        context = torch.bmm(weights, keys) # 只适用于 三维矩阵 乘法\n",
    "        return context, weights"
   ],
   "id": "79d32974f107481d",
   "outputs": [],
   "execution_count": 12
  },
  {
   "metadata": {
    "ExecuteTime": {
     "end_time": "2025-03-25T09:33:37.939597Z",
     "start_time": "2025-03-25T09:33:37.926848Z"
    }
   },
   "cell_type": "code",
   "source": [
    "class AttentionDecoderRNN(nn.Module):\n",
    "    def __init__(self, hidden_size, output_size, dropout_p=0.1):\n",
    "        super(AttentionDecoderRNN, self).__init__()\n",
    "        self.embedding = nn.Embedding(output_size, hidden_size)\n",
    "        self.attention = Attention(hidden_size)\n",
    "        self.rnn = nn.RNN(2 * hidden_size, hidden_size, batch_first=True)\n",
    "        self.out = nn.Linear(hidden_size, output_size)\n",
    "        self.dropout = nn.Dropout(dropout_p)\n",
    "\n",
    "    def forward(self, encoder_outputs, encoder_hidden, target_tensor=None):\n",
    "        batch_size = encoder_outputs.size(0)\n",
    "        decoder_input = torch.empty(batch_size, 1, dtype=torch.long).fill_(SOS_token)\n",
    "        decoder_hidden = encoder_hidden # (1,10,5)\n",
    "        decoder_outputs = []\n",
    "        attentions = []\n",
    "        for i in range(MAX_LENGTH):\n",
    "            decoder_output, decoder_hidden, attn_weights = self.forward_step(\n",
    "                decoder_input, decoder_hidden, encoder_outputs)\n",
    "            decoder_outputs.append(decoder_output)\n",
    "            attentions.append(attn_weights)\n",
    "            if target_tensor is not None:\n",
    "                decoder_input = target_tensor[:, i].unsqueeze(1)\n",
    "            else:\n",
    "                _, topi = decoder_output.topk(1)\n",
    "                decoder_input = topi.squeeze(-1).detach()\n",
    "\n",
    "        decoder_outputs = torch.cat(decoder_outputs, dim=1)\n",
    "        decoder_outputs = F.log_softmax(decoder_outputs, dim=-1)\n",
    "        attentions = torch.cat(attentions, dim=1)\n",
    "        return decoder_outputs, decoder_hidden, attentions\n",
    "\n",
    "    def forward_step(self, input, hidden, encoder_outputs):\n",
    "        embedded = self.dropout(self.embedding(input))\n",
    "        query = hidden.permute(1, 0, 2)\n",
    "        context, attn_weights = self.attention(query, encoder_outputs) # (1,1,5) (1,10,5)\n",
    "        # print('attn_weights.shape:',attn_weights.shape) # (1,1,10)\n",
    "        input_rnn = torch.cat((embedded, context), dim=2)\n",
    "        output, hidden = self.rnn(input_rnn, hidden)\n",
    "       # print('output shape:',output.shape,'hidden shape:', hidden.shape)\n",
    "        output = self.out(output)\n",
    "        return output, hidden, attn_weights"
   ],
   "id": "19ff77f053461a3",
   "outputs": [],
   "execution_count": 22
  },
  {
   "metadata": {
    "ExecuteTime": {
     "end_time": "2025-03-25T09:33:38.968024Z",
     "start_time": "2025-03-25T09:33:38.955120Z"
    }
   },
   "cell_type": "code",
   "source": [
    "decoder = AttentionDecoderRNN(hidden_size=5, output_size=10)\n",
    "target_vector = torch.tensor([[0, 1, 2, 3, 4, 5, 6, 7, 8, 9]]) # (1,10)\n",
    "encoder_outputs, encoder_hidden = encoder(input_vector)\n",
    "print('encoder_outpus.shape:',encoder_outputs.shape,'encoder_hidden.shape:',encoder_hidden.shape)\n",
    "output, hidden, attentions = decoder(\n",
    "    encoder_outputs, encoder_hidden, target_vector)\n",
    "print(\"输出向量的维度:\", output.size())\n",
    "print('hidden size:',hidden.size())\n",
    "print(\"注意力权重的维度:\", attentions.size())"
   ],
   "id": "52c000d05e84b243",
   "outputs": [
    {
     "name": "stdout",
     "output_type": "stream",
     "text": [
      "encoder_outpus.shape: torch.Size([1, 10, 5]) encoder_hidden.shape: torch.Size([1, 1, 5])\n",
      "attn_weights.shape: torch.Size([1, 1, 10])\n",
      "attn_weights.shape: torch.Size([1, 1, 10])\n",
      "attn_weights.shape: torch.Size([1, 1, 10])\n",
      "attn_weights.shape: torch.Size([1, 1, 10])\n",
      "attn_weights.shape: torch.Size([1, 1, 10])\n",
      "attn_weights.shape: torch.Size([1, 1, 10])\n",
      "attn_weights.shape: torch.Size([1, 1, 10])\n",
      "attn_weights.shape: torch.Size([1, 1, 10])\n",
      "attn_weights.shape: torch.Size([1, 1, 10])\n",
      "attn_weights.shape: torch.Size([1, 1, 10])\n",
      "输出向量的维度: torch.Size([1, 10, 10])\n",
      "hidden size: torch.Size([1, 1, 5])\n",
      "注意力权重的维度: torch.Size([1, 10, 10])\n"
     ]
    }
   ],
   "execution_count": 23
  }
 ],
 "metadata": {
  "kernelspec": {
   "display_name": "Python 3",
   "language": "python",
   "name": "python3"
  },
  "language_info": {
   "codemirror_mode": {
    "name": "ipython",
    "version": 2
   },
   "file_extension": ".py",
   "mimetype": "text/x-python",
   "name": "python",
   "nbconvert_exporter": "python",
   "pygments_lexer": "ipython2",
   "version": "2.7.6"
  }
 },
 "nbformat": 4,
 "nbformat_minor": 5
}
