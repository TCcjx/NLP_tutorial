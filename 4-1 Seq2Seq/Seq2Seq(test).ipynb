{
 "cells": [
  {
   "cell_type": "code",
   "id": "initial_id",
   "metadata": {
    "collapsed": true,
    "ExecuteTime": {
     "end_time": "2025-03-23T02:41:59.612147Z",
     "start_time": "2025-03-23T02:41:59.598928Z"
    }
   },
   "source": [
    "import torch.nn as nn\n",
    "import torch\n",
    "import torch.nn.functional as F"
   ],
   "outputs": [],
   "execution_count": 27
  },
  {
   "metadata": {
    "ExecuteTime": {
     "end_time": "2025-03-23T02:36:53.372337Z",
     "start_time": "2025-03-23T02:36:53.356255Z"
    }
   },
   "cell_type": "code",
   "source": [
    "MAX_LENGTH = 10\n",
    "\n",
    "PAD_token = 0\n",
    "SOS_token = 1\n",
    "EOS_token = 2"
   ],
   "id": "a41d89f018b88543",
   "outputs": [],
   "execution_count": 26
  },
  {
   "metadata": {
    "ExecuteTime": {
     "end_time": "2025-03-23T02:27:11.274894Z",
     "start_time": "2025-03-23T02:27:11.268780Z"
    }
   },
   "cell_type": "code",
   "source": [
    "# RNN编码器\n",
    "class EncoderRNN(nn.Module):\n",
    "    def __init__(self, input_size, hidden_size, dropout_p=0.1):\n",
    "        super().__init__()\n",
    "        self.hidden_size = hidden_size # 隐藏态维度大小\n",
    "        self.embedding = nn.Embedding(input_size, hidden_size) # 嵌入层\n",
    "        self.rnn = nn.RNN(hidden_size, hidden_size, batch_first=True) # RNN单元\n",
    "        self.dropout = nn.Dropout(dropout_p)\n",
    "\n",
    "    def forward(self, X):\n",
    "        X = self.embedding(X)\n",
    "        X = self.dropout(X)\n",
    "        output, hidden = self.rnn(X)\n",
    "        return output, hidden"
   ],
   "id": "59c0c6b61093a1bf",
   "outputs": [],
   "execution_count": 22
  },
  {
   "metadata": {
    "ExecuteTime": {
     "end_time": "2025-03-23T02:27:47.668704Z",
     "start_time": "2025-03-23T02:27:47.652656Z"
    }
   },
   "cell_type": "code",
   "source": [
    "encoder = EncoderRNN(input_size=10, hidden_size=5)\n",
    "input_vector = torch.arange(10).unsqueeze(0) # （1,10，10）\n",
    "output, hidden = encoder(input_vector) # output:(1,10,5) hidden(1,1,5)\n",
    "print('输入向量的维度：',input_vector.size())\n",
    "print('输出向量的维度：',output.size())\n",
    "print('最终隐藏态的维度：',hidden.size())"
   ],
   "id": "e5441f573f160acc",
   "outputs": [
    {
     "name": "stdout",
     "output_type": "stream",
     "text": [
      "输入向量的维度： torch.Size([1, 10])\n",
      "输出向量的维度： torch.Size([1, 10, 5])\n",
      "最终隐藏态的维度： torch.Size([1, 1, 5])\n"
     ]
    }
   ],
   "execution_count": 25
  },
  {
   "metadata": {
    "ExecuteTime": {
     "end_time": "2025-03-23T03:23:18.056056Z",
     "start_time": "2025-03-23T03:23:18.041614Z"
    }
   },
   "cell_type": "code",
   "source": [
    "class DecoderRNN(nn.Module):\n",
    "    def __init__(self, hidden_size, output_size):\n",
    "        super(DecoderRNN, self).__init__()\n",
    "        self.embedding = nn.Embedding(output_size, hidden_size)\n",
    "        self.rnn = nn.RNN(hidden_size, hidden_size, batch_first=True)\n",
    "        self.out = nn.Linear(hidden_size, output_size)\n",
    "\n",
    "    def forward(self, encoder_outputs, encoder_hidden, target_tensor=None):\n",
    "        batch_size = encoder_outputs.size(0)\n",
    "        decoder_input = torch.empty(batch_size, 1, dtype=torch.long).fill_(\n",
    "            SOS_token)  # Start of Sentence词元，用于表示开始生成一个句子\n",
    "        decoder_hidden = encoder_hidden # 编码器隐藏态 作为 解码器隐藏态 (1,10,5)\n",
    "        decoder_outputs = []\n",
    "        for i in range(MAX_LENGTH):\n",
    "            decoder_output, decoder_hidden = self.forward_step(\n",
    "                decoder_input, decoder_hidden)\n",
    "            decoder_outputs.append(decoder_output) # 输出追加到 decoder_outputs\n",
    "            if target_tensor is not None:\n",
    "                decoder_input = target_tensor[:, i].unsqueeze(1)\n",
    "            else:\n",
    "                _, topi = decoder_output.topk(1) # 最高概率的索引值\n",
    "                decoder_input = topi.squeeze(-1).detach()\n",
    "\n",
    "\n",
    "        decoder_outputs = torch.cat(decoder_outputs, dim=1)\n",
    "        decoder_outputs = F.log_softmax(decoder_outputs, dim=-1)\n",
    "        return decoder_outputs, decoder_hidden, None\n",
    "\n",
    "    def forward_step(self, x, hidden):\n",
    "        x = self.embedding(x)\n",
    "        x = F.relu(x)\n",
    "        x, hidden = self.rnn(x, hidden) # x:(1,1,5) hidden(1,1,5)\n",
    "        output = self.out(x)\n",
    "        return output, hidden"
   ],
   "id": "93f5b7654d7bf083",
   "outputs": [],
   "execution_count": 62
  },
  {
   "metadata": {
    "ExecuteTime": {
     "end_time": "2025-03-23T03:23:18.463331Z",
     "start_time": "2025-03-23T03:23:18.454248Z"
    }
   },
   "cell_type": "code",
   "source": [
    "decoder = DecoderRNN(hidden_size=5, output_size=10)\n",
    "target_vector = torch.tensor([[0, 1, 2, 3, 4, 5, 6, 7, 8, 9]]) # (1,10) 模拟目标target\n",
    "encoder_outputs, encoder_hidden = encoder(input_vector)\n",
    "output, hidden, _ = decoder(encoder_outputs, encoder_hidden, target_vector)"
   ],
   "id": "b21583a0cf430b20",
   "outputs": [
    {
     "name": "stdout",
     "output_type": "stream",
     "text": [
      "topi: tensor([[[5]]])\n",
      "topi: tensor([[[9]]])\n",
      "topi: tensor([[[8]]])\n",
      "topi: tensor([[[8]]])\n",
      "topi: tensor([[[8]]])\n",
      "topi: tensor([[[8]]])\n",
      "topi: tensor([[[8]]])\n",
      "topi: tensor([[[8]]])\n",
      "topi: tensor([[[8]]])\n",
      "topi: tensor([[[8]]])\n",
      "torch.Size([1, 10, 10])\n"
     ]
    }
   ],
   "execution_count": 63
  },
  {
   "metadata": {
    "ExecuteTime": {
     "end_time": "2025-03-23T03:16:47.923684Z",
     "start_time": "2025-03-23T03:16:47.908277Z"
    }
   },
   "cell_type": "code",
   "source": [
    "'''\n",
    "前面部分代码实现了单独的Encoder2Decoder的Seq2Seq结构\n",
    "主要思想是：Encoder的输出隐藏态作为Decoder的初始隐藏态\n",
    "然后进行依次RNN单元的计算，每个RNNCell的输出就是该单元的预测\n",
    "如果是进行强制学习的话，就是将target输出作为下一时刻输入\n",
    "否则就是将当前时刻输出，作为下一时刻RNNCell的输入\n",
    "这样逐Cell进行计算，计算出最终的预测序列\n",
    "'''\n",
    "print(\"输出向量的维度:\", output.size())\n",
    "print(\"最终隐藏状态的维度:\", hidden.size())"
   ],
   "id": "b8cdc26d1f81cfd3",
   "outputs": [
    {
     "name": "stdout",
     "output_type": "stream",
     "text": [
      "输出向量的维度: torch.Size([1, 10, 10])\n",
      "最终隐藏状态的维度: torch.Size([1, 1, 5])\n"
     ]
    }
   ],
   "execution_count": 49
  },
  {
   "metadata": {},
   "cell_type": "code",
   "outputs": [],
   "execution_count": null,
   "source": "",
   "id": "79d32974f107481d"
  }
 ],
 "metadata": {
  "kernelspec": {
   "display_name": "Python 3",
   "language": "python",
   "name": "python3"
  },
  "language_info": {
   "codemirror_mode": {
    "name": "ipython",
    "version": 2
   },
   "file_extension": ".py",
   "mimetype": "text/x-python",
   "name": "python",
   "nbconvert_exporter": "python",
   "pygments_lexer": "ipython2",
   "version": "2.7.6"
  }
 },
 "nbformat": 4,
 "nbformat_minor": 5
}
