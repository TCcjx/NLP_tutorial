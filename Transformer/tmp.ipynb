{
 "cells": [
  {
   "metadata": {
    "ExecuteTime": {
     "end_time": "2025-03-15T09:34:14.137009Z",
     "start_time": "2025-03-15T09:34:12.486952Z"
    }
   },
   "cell_type": "code",
   "source": [
    "from torch import nn\n",
    "import torch\n",
    "print(torch.cuda.is_available())"
   ],
   "id": "5d7510310204dd1c",
   "outputs": [
    {
     "name": "stdout",
     "output_type": "stream",
     "text": [
      "True\n"
     ]
    }
   ],
   "execution_count": 1
  },
  {
   "metadata": {
    "ExecuteTime": {
     "end_time": "2025-03-15T09:34:15.027830Z",
     "start_time": "2025-03-15T09:34:14.895523Z"
    }
   },
   "cell_type": "code",
   "source": [
    "a =  torch.tensor([0, 1, 2]).cuda()\n",
    "a"
   ],
   "id": "6c5f2015f05277af",
   "outputs": [
    {
     "data": {
      "text/plain": [
       "tensor([0, 1, 2], device='cuda:0')"
      ]
     },
     "execution_count": 2,
     "metadata": {},
     "output_type": "execute_result"
    }
   ],
   "execution_count": 2
  },
  {
   "metadata": {
    "ExecuteTime": {
     "end_time": "2025-03-15T09:34:15.836808Z",
     "start_time": "2025-03-15T09:34:15.780811Z"
    }
   },
   "cell_type": "code",
   "source": [
    "ebd = nn.Embedding(3,2).cuda()\n",
    "x = ebd(a)\n",
    "print(x.shape) # 嵌入表示维度为 2"
   ],
   "id": "afb2e19999fadc51",
   "outputs": [
    {
     "name": "stdout",
     "output_type": "stream",
     "text": [
      "torch.Size([3, 2])\n"
     ]
    }
   ],
   "execution_count": 3
  },
  {
   "metadata": {},
   "cell_type": "code",
   "outputs": [],
   "execution_count": null,
   "source": "",
   "id": "fbbee4148cd62981"
  }
 ],
 "metadata": {
  "kernelspec": {
   "display_name": "Python 3",
   "language": "python",
   "name": "python3"
  },
  "language_info": {
   "codemirror_mode": {
    "name": "ipython",
    "version": 2
   },
   "file_extension": ".py",
   "mimetype": "text/x-python",
   "name": "python",
   "nbconvert_exporter": "python",
   "pygments_lexer": "ipython2",
   "version": "2.7.6"
  }
 },
 "nbformat": 4,
 "nbformat_minor": 5
}
