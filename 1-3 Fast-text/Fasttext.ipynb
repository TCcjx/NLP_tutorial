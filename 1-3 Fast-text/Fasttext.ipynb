{
 "cells": [
  {
   "metadata": {},
   "cell_type": "markdown",
   "source": [
    "## Word2Vec的缺点\n",
    "1.无法表示词表中不曾出现的词汇，也就是说几乎不能处理罕见词和未曾见过的词语\n",
    "\n",
    "2.对于同义词问题，无法很好的处理 利于cat 和 cats\n",
    "\n",
    "3.无法捕捉单词的内部结构，导致一些罕见词很能被学习到\n",
    "\n",
    "4.无法直接用于句子或文档级别的表示\n",
    "\n",
    "## Fasttext的改进\n",
    "FastText对单词进行n-gram处理\n",
    "\n",
    "1.这样做可以使得单词对低频词 和 罕见词有更好的处理，因为共享了n-gram的分词表示\n",
    "\n",
    "2.可以动态处理新词汇\n",
    "\n",
    "3.更好的捕捉了单词内部的形态"
   ],
   "id": "a181628ba8738c0b"
  },
  {
   "metadata": {},
   "cell_type": "markdown",
   "source": [
    "Fasttext的输入部分处理，所谓的词袋法，即将所有文本看成一个词袋（词的集合）进行表示：\n",
    "输入文本: \"I love natural language processing\"\n",
    "1. 分词: [\"I\", \"love\", \"natural\", \"language\", \"processing\"]\n",
    "2. 添加特殊字符: [\"<I>\", \"<love>\", \"<natural>\", \"<language>\", \"<processing>\"]\n",
    "3. 提取 n-gram 特征 (以 3-gram 为例):\n",
    "   - \"<I>\": [\"<I\", \"I>\"]\n",
    "   - \"<love>\": [\"<lo\", \"lov\", \"ove\", \"ve>\"]\n",
    "   - \"<natural>\": [\"<na\", \"nat\", \"atu\", \"tur\", \"ure\", \"re>\"]\n",
    "   - \"<language>\": [\"<la\", \"lan\", \"ang\", \"ngu\", \"gua\", \"uag\", \"age\", \"ge>\"]\n",
    "   - \"<processing>\": [\"<pr\", \"pro\", \"roc\", \"oce\", \"ces\", \"ess\", \"ssi\", \"sin\", \"ing\", \"ng>\"]\n",
    "4. 初始化 n-gram 嵌入向量:\n",
    "   - vector(\"<I\") = [0.1, 0.2, ..., 0.3]\n",
    "   - vector(\"I>\") = [0.4, 0.5, ..., 0.6]\n",
    "   - vector(\"<lo\") = [0.7, 0.8, ..., 0.9]\n",
    "   - ...\n",
    "5. 计算单词向量:\n",
    "   - vector(\"I\") = avg(vector(\"<I\"), vector(\"I>\"))\n",
    "   - vector(\"love\") = avg(vector(\"<lo\"), vector(\"lov\"), vector(\"ove\"), vector(\"ve>\"))\n",
    "   - ...\n",
    "6. 计算文本向量:\n",
    "   - vector(\"I love natural language processing\") = avg(vector(\"I\"), vector(\"love\"), vector(\"natural\"), vector(\"language\"), vector(\"processing\"))"
   ],
   "id": "ee170b6d244e96ea"
  }
 ],
 "metadata": {
  "kernelspec": {
   "display_name": "Python 3",
   "language": "python",
   "name": "python3"
  },
  "language_info": {
   "codemirror_mode": {
    "name": "ipython",
    "version": 2
   },
   "file_extension": ".py",
   "mimetype": "text/x-python",
   "name": "python",
   "nbconvert_exporter": "python",
   "pygments_lexer": "ipython2",
   "version": "2.7.6"
  }
 },
 "nbformat": 4,
 "nbformat_minor": 5
}
